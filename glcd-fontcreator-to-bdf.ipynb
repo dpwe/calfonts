{
 "cells": [
  {
   "cell_type": "code",
   "execution_count": 3,
   "id": "75632e7e",
   "metadata": {},
   "outputs": [],
   "source": [
    "# glcd-fontcreator-to-bdf.ipynb\n",
    "#\n",
    "# Converts the fontcreator2-format files used by openglcd\n",
    "# into the X11 BDF format that can be ingested by u8g2.\n",
    "#\n",
    "# Dan Ellis dpwe@ 2022-02-20"
   ]
  },
  {
   "cell_type": "code",
   "execution_count": 4,
   "id": "5b546319",
   "metadata": {},
   "outputs": [],
   "source": [
    "from PIL import Image"
   ]
  },
  {
   "cell_type": "code",
   "execution_count": 57,
   "id": "6f1609a5",
   "metadata": {},
   "outputs": [
    {
     "name": "stdout",
     "output_type": "stream",
     "text": [
      "comment [bytes since last=  2 ]:  size\n",
      "comment [bytes since last=  1 ]:  width\n",
      "comment [bytes since last=  1 ]:  height\n",
      "comment [bytes since last=  1 ]:  first char\n",
      "comment [bytes since last=  1 ]:  char count\n",
      "comment [bytes since last=  0 ]:  char widths\n",
      "comment [bytes since last=  96 ]:  font data\n",
      "comment [bytes since last=  28 ]:  32\n",
      "comment [bytes since last=  12 ]:  33\n",
      "comment [bytes since last=  28 ]:  34\n",
      "comment [bytes since last=  60 ]:  35\n",
      "comment [bytes since last=  48 ]:  36\n",
      "comment [bytes since last=  88 ]:  37\n",
      "comment [bytes since last=  64 ]:  38\n",
      "comment [bytes since last=  8 ]:  39\n",
      "comment [bytes since last=  28 ]:  40\n",
      "comment [bytes since last=  28 ]:  41\n",
      "comment [bytes since last=  44 ]:  42\n",
      "comment [bytes since last=  60 ]:  43\n",
      "comment [bytes since last=  16 ]:  44\n",
      "comment [bytes since last=  28 ]:  45\n",
      "comment [bytes since last=  12 ]:  46\n",
      "comment [bytes since last=  40 ]:  47\n",
      "comment [bytes since last=  48 ]:  48\n",
      "comment [bytes since last=  40 ]:  49\n",
      "comment [bytes since last=  48 ]:  50\n",
      "comment [bytes since last=  44 ]:  51\n",
      "comment [bytes since last=  52 ]:  52\n",
      "comment [bytes since last=  48 ]:  53\n",
      "comment [bytes since last=  48 ]:  54\n",
      "comment [bytes since last=  48 ]:  55\n",
      "comment [bytes since last=  48 ]:  56\n",
      "comment [bytes since last=  52 ]:  57\n",
      "comment [bytes since last=  12 ]:  58\n",
      "comment [bytes since last=  16 ]:  59\n",
      "comment [bytes since last=  52 ]:  60\n",
      "comment [bytes since last=  56 ]:  61\n",
      "comment [bytes since last=  56 ]:  62\n",
      "comment [bytes since last=  40 ]:  63\n",
      "comment [bytes since last=  80 ]:  64\n",
      "comment [bytes since last=  64 ]:  65\n",
      "comment [bytes since last=  52 ]:  66\n",
      "comment [bytes since last=  60 ]:  67\n",
      "comment [bytes since last=  60 ]:  68\n",
      "comment [bytes since last=  48 ]:  69\n",
      "comment [bytes since last=  44 ]:  70\n",
      "comment [bytes since last=  64 ]:  71\n",
      "comment [bytes since last=  56 ]:  72\n",
      "comment [bytes since last=  24 ]:  73\n",
      "comment [bytes since last=  32 ]:  74\n",
      "comment [bytes since last=  56 ]:  75\n",
      "comment [bytes since last=  44 ]:  76\n",
      "comment [bytes since last=  64 ]:  77\n",
      "comment [bytes since last=  56 ]:  78\n",
      "comment [bytes since last=  68 ]:  79\n",
      "comment [bytes since last=  48 ]:  80\n",
      "comment [bytes since last=  68 ]:  81\n",
      "comment [bytes since last=  56 ]:  82\n",
      "comment [bytes since last=  52 ]:  83\n",
      "comment [bytes since last=  60 ]:  84\n",
      "comment [bytes since last=  52 ]:  85\n",
      "comment [bytes since last=  60 ]:  86\n",
      "comment [bytes since last=  84 ]:  87\n",
      "comment [bytes since last=  56 ]:  88\n",
      "comment [bytes since last=  52 ]:  89\n",
      "comment [bytes since last=  56 ]:  90\n",
      "comment [bytes since last=  24 ]:  91\n",
      "comment [bytes since last=  40 ]:  92\n",
      "comment [bytes since last=  24 ]:  93\n",
      "comment [bytes since last=  56 ]:  94\n",
      "comment [bytes since last=  60 ]:  95\n",
      "comment [bytes since last=  16 ]:  96\n",
      "comment [bytes since last=  44 ]:  97\n",
      "comment [bytes since last=  48 ]:  98\n",
      "comment [bytes since last=  44 ]:  99\n",
      "comment [bytes since last=  48 ]:  100\n",
      "comment [bytes since last=  48 ]:  101\n",
      "comment [bytes since last=  28 ]:  102\n",
      "comment [bytes since last=  48 ]:  103\n",
      "comment [bytes since last=  44 ]:  104\n",
      "comment [bytes since last=  12 ]:  105\n",
      "comment [bytes since last=  24 ]:  106\n",
      "comment [bytes since last=  48 ]:  107\n",
      "comment [bytes since last=  8 ]:  108\n",
      "comment [bytes since last=  76 ]:  109\n",
      "comment [bytes since last=  44 ]:  110\n",
      "comment [bytes since last=  48 ]:  111\n",
      "comment [bytes since last=  48 ]:  112\n",
      "comment [bytes since last=  48 ]:  113\n",
      "comment [bytes since last=  32 ]:  114\n",
      "comment [bytes since last=  40 ]:  115\n",
      "comment [bytes since last=  32 ]:  116\n",
      "comment [bytes since last=  44 ]:  117\n",
      "comment [bytes since last=  48 ]:  118\n",
      "comment [bytes since last=  68 ]:  119\n",
      "comment [bytes since last=  48 ]:  120\n",
      "comment [bytes since last=  48 ]:  121\n",
      "comment [bytes since last=  44 ]:  122\n",
      "comment [bytes since last=  44 ]:  123\n",
      "comment [bytes since last=  8 ]:  124\n",
      "comment [bytes since last=  44 ]:  125\n",
      "comment [bytes since last=  60 ]:  126\n"
     ]
    }
   ],
   "source": [
    "# read fontcreator format file from openglcd\n",
    "\n",
    "#font_name = \"CalBlk36\"\n",
    "#font_weight = \"bold\"\n",
    "#font_ptsize = 36\n",
    "#font_descent = -8\n",
    "\n",
    "font_name = \"CalLite24\"\n",
    "font_weight = \"light\"\n",
    "font_ptsize = 24\n",
    "font_descent = -6\n",
    "\n",
    "\n",
    "font_file = '/Users/dpwe/Documents/Arduino/libraries/openGLCD/fonts/{:s}.h'.format(font_name)\n",
    "\n",
    "bytes = []\n",
    "\n",
    "with open(font_file, 'rt') as f:\n",
    "    in_brace = False\n",
    "    in_comment = False\n",
    "    line_has_comment = False\n",
    "    last_comment_byte = 0\n",
    "    for l in f:\n",
    "        if '/*' in l:\n",
    "            in_comment = True\n",
    "        if '*/' in l:\n",
    "            in_comment = False\n",
    "        if in_comment:\n",
    "            continue;\n",
    "        if '{' in l:\n",
    "            in_brace = True\n",
    "            continue\n",
    "        if '}' in l:\n",
    "            in_brace = False\n",
    "            continue\n",
    "        if in_brace:\n",
    "            # Strip trailing comment\n",
    "            if '//' in l:\n",
    "                l, comment = l.split('//')\n",
    "                line_has_comment = True\n",
    "            # Deal with comma-separated fields\n",
    "            for field in l.split(','):\n",
    "                field = field.strip()\n",
    "                if field:\n",
    "                    try:\n",
    "                        val = int(field, base=16)\n",
    "                        bytes.append(val)\n",
    "                    except:\n",
    "                        print(\"could not parse \", field)\n",
    "            if line_has_comment:\n",
    "                line_has_comment = False\n",
    "                print(\"comment [bytes since last= \", len(bytes) - last_comment_byte, \"]: \", comment.strip())\n",
    "                last_comment_byte = len(bytes)"
   ]
  },
  {
   "cell_type": "code",
   "execution_count": 58,
   "id": "c0dc7061",
   "metadata": {},
   "outputs": [
    {
     "name": "stdout",
     "output_type": "stream",
     "text": [
      "font_width= 21 font_height= 25\n"
     ]
    }
   ],
   "source": [
    "# Interpreting the bytes\n",
    "font_size = 256 * bytes[1] + bytes[0]\n",
    "font_width = bytes[2]\n",
    "font_height = bytes[3]\n",
    "font_start_code = bytes[4]\n",
    "font_num_codes = bytes[5]\n",
    "\n",
    "font_widths = bytes[6 : 6 + font_num_codes]\n",
    "\n",
    "font_data = bytes[6 + font_num_codes:]\n",
    "\n",
    "print(\"font_width=\", font_width, \"font_height=\", font_height)"
   ]
  },
  {
   "cell_type": "code",
   "execution_count": 59,
   "id": "c9b22880",
   "metadata": {},
   "outputs": [
    {
     "name": "stdout",
     "output_type": "stream",
     "text": [
      "96 [7, 3, 7, 15, 12, 22, 16, 2, 7, 7]\n",
      "[(32, 7), (33, 3), (34, 7), (35, 15), (36, 12), (37, 22), (38, 16), (39, 2), (40, 7), (41, 7), (42, 11), (43, 15), (44, 4), (45, 7), (46, 3), (47, 10), (48, 12), (49, 10), (50, 12), (51, 11)]\n"
     ]
    }
   ],
   "source": [
    "print(font_num_codes, font_widths[:10])\n",
    "print(list(zip(range(32, 52), font_widths[:20])))"
   ]
  },
  {
   "cell_type": "code",
   "execution_count": 60,
   "id": "7f3a256a",
   "metadata": {},
   "outputs": [
    {
     "name": "stdout",
     "output_type": "stream",
     "text": [
      "10 17\n"
     ]
    },
    {
     "data": {
      "image/png": "[encoded data removed]",
      "text/plain": [
       "<PIL.Image.Image image mode=1 size=15x25 at 0x10E801D30>"
      ]
     },
     "metadata": {},
     "output_type": "display_data"
    }
   ],
   "source": [
    "# Bytes per glyph is 5 * width.  Height is 36, which won't fit in 4 bytes but will fit in 5.  \n",
    "# So encoding is by column, with each column padded to fill bytes.\n",
    "\n",
    "def bytes_to_glyph(bytes, height):\n",
    "    bytes_per_col = (height + 7) // 8\n",
    "    width = len(bytes) // bytes_per_col\n",
    "    if width != (len(bytes) / bytes_per_col):  # Must be an integral number\n",
    "        raise ValueError(\"got {:d} bytes but width is {:d} and bytes per col is {:d}\".format(len(bytes), width, bytes_per_col))\n",
    "    im = Image.new('1', (width, height), 0)\n",
    "    # Actual encoding is in \"stripes\" of width bytes, providing 8 pixel rows at a time\n",
    "    for row in range(bytes_per_col):\n",
    "        for column in range(width):\n",
    "            val = bytes[row * width + column]\n",
    "            for pixel in range(min(8, height - 8 * row)):\n",
    "                if val & (2 ** pixel) > 0:\n",
    "                    im.putpixel((column, row * 8 + pixel), 1)\n",
    "    return im\n",
    "\n",
    "#im = bytes_to_glyph(font_data[40:80], 36)\n",
    "print(sum(font_widths[:2]), sum(font_widths[:3]))\n",
    "bytes_per_col = (font_height + 7) // 8\n",
    "im = bytes_to_glyph(font_data[bytes_per_col * sum(font_widths[:3]) : bytes_per_col * sum(font_widths[:4])], font_height)\n",
    "\n",
    "display(im)  # Displays as white against black."
   ]
  },
  {
   "cell_type": "code",
   "execution_count": 61,
   "id": "2b9f3449",
   "metadata": {},
   "outputs": [],
   "source": [
    "# Convert all the characters into images\n",
    "glyphs = {}   # Dict of ascii: image\n",
    "\n",
    "bytes_per_col = (font_height + 7) // 8\n",
    "data_pos = 0\n",
    "for index in range(font_num_codes):\n",
    "    code = font_start_code + index\n",
    "    width = font_widths[index]\n",
    "    bytes_this_glyph = bytes_per_col * width\n",
    "    glyphs[code] = bytes_to_glyph(font_data[data_pos : data_pos + bytes_this_glyph], font_height)\n",
    "    data_pos += bytes_this_glyph"
   ]
  },
  {
   "cell_type": "code",
   "execution_count": 62,
   "id": "e44c7f3f",
   "metadata": {},
   "outputs": [
    {
     "data": {
      "image/png": "[encoded data removed]",
      "text/plain": [
       "<PIL.Image.Image image mode=1 size=12x25 at 0x10E7AC7F0>"
      ]
     },
     "metadata": {},
     "output_type": "display_data"
    },
    {
     "name": "stdout",
     "output_type": "stream",
     "text": [
      "12\n",
      "21\n",
      "571\n"
     ]
    }
   ],
   "source": [
    "display(glyphs[50])\n",
    "print(glyphs[50].width)\n",
    "print(font_width)\n",
    "print(int(round(1000 * glyphs[50].width / font_width)))\n"
   ]
  },
  {
   "cell_type": "code",
   "execution_count": 63,
   "id": "138214d5",
   "metadata": {},
   "outputs": [
    {
     "name": "stdout",
     "output_type": "stream",
     "text": [
      "STARTCHAR U+0032\n",
      "ENCODING 50\n",
      "SWIDTH 571 0\n",
      "DWIDTH 13 0\n",
      "BBX 12 25 0 -6\n",
      "BITMAP\n",
      "0000\n",
      "0000\n",
      "1e00\n",
      "7f80\n",
      "63c0\n",
      "00e0\n",
      "00e0\n",
      "0060\n",
      "00e0\n",
      "00c0\n",
      "01c0\n",
      "0380\n",
      "0700\n",
      "0e00\n",
      "1c00\n",
      "3800\n",
      "7000\n",
      "e000\n",
      "fff0\n",
      "fff0\n",
      "0000\n",
      "0000\n",
      "0000\n",
      "0000\n",
      "0000\n",
      "ENDCHAR\n"
     ]
    }
   ],
   "source": [
    "# And now, BDF export...\n",
    "\n",
    "def bdf_encode_glyph(im, code, fontwidth, font_descent):\n",
    "    result = []\n",
    "    result.append('STARTCHAR U+{:04x}'.format(code))\n",
    "    result.append('ENCODING {:d}'.format(code))\n",
    "    result.append('SWIDTH {:d} 0'.format(int(round(1000 * im.width / fontwidth))))\n",
    "    result.append('DWIDTH {:d} 0'.format(im.width + 1))   # openglcd glyphs <127 have implicit final blank column\n",
    "    result.append('BBX {:d} {:d} 0 {:d}'.format(im.width, im.height, font_descent))\n",
    "    result.append('BITMAP')\n",
    "    bytes = (im.width + 7) // 8\n",
    "    formatstr = '{{:0{:d}x}}'.format(2 * bytes)\n",
    "    for row in range(im.height):\n",
    "        val = 0\n",
    "        for col in range(im.width):\n",
    "            if im.getpixel((col, row)):\n",
    "                val += (2 ** (8 * bytes - 1 - col))\n",
    "        result.append(formatstr.format(val))\n",
    "    result.append('ENDCHAR')\n",
    "    return '\\n'.join(result)\n",
    "\n",
    "print(bdf_encode_glyph(glyphs[50], 50, font_width, font_descent))"
   ]
  },
  {
   "cell_type": "code",
   "execution_count": 64,
   "id": "9fd4c530",
   "metadata": {},
   "outputs": [],
   "source": [
    "# And the whole font\n",
    "\n",
    "bdf_file = '/Users/dpwe/Downloads/{:s}.bdf'.format(font_name)\n",
    "\n",
    "def write_bdf_file(filename, font_start_code, font_width, font_height, font_descent, glyphs):\n",
    "    num_glyphs = len(glyphs)\n",
    "    pointsize = glyphs[font_start_code].height\n",
    "    with open(bdf_file, 'w') as f:\n",
    "        f.write('STARTFONT 2.1\\n')\n",
    "        f.write('FONT -integratedmapping-{:s}-{:s}-r-normal--{:d}-{:d}-75-75-c-80-iso10646-1\\n'.format(font_name, font_weight, font_ptsize, font_ptsize * 10))\n",
    "        f.write('SIZE {:d} 75 75\\n'.format(pointsize))\n",
    "        f.write('FONTBOUNDINGBOX {:d} {:d} 0 {:d}\\n'.format(font_height, font_width, font_descent))\n",
    "        f.write('CHARS {:d}\\n'.format(num_glyphs))\n",
    "        for index in range(num_glyphs):\n",
    "            code = font_start_code + index\n",
    "            f.write(bdf_encode_glyph(glyphs[code], code, font_width, font_descent))\n",
    "            f.write('\\n')\n",
    "        f.write('ENDFONT\\n')\n",
    "\n",
    "write_bdf_file(bdf_file, font_start_code, font_width, font_height, font_descent, glyphs)\n"
   ]
  },
  {
   "cell_type": "code",
   "execution_count": null,
   "id": "5d1909f4",
   "metadata": {},
   "outputs": [],
   "source": []
  }
 ],
 "metadata": {
  "kernelspec": {
   "display_name": "Python 3 (ipykernel)",
   "language": "python",
   "name": "python3"
  },
  "language_info": {
   "codemirror_mode": {
    "name": "ipython",
    "version": 3
   },
   "file_extension": ".py",
   "mimetype": "text/x-python",
   "name": "python",
   "nbconvert_exporter": "python",
   "pygments_lexer": "ipython3",
   "version": "3.8.2"
  }
 },
 "nbformat": 4,
 "nbformat_minor": 5
}
